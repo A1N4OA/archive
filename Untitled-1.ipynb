{
 "cells": [
  {
   "cell_type": "code",
   "execution_count": 2,
   "metadata": {},
   "outputs": [],
   "source": [
    "import numpy as np # linear algebra\n",
    "import pandas as pd # data processing, CSV file I/O (e.g. pd.read_csv)\n",
    "import matplotlib.pyplot as plt # for data visualization\n",
    "import seaborn as sns # for statistical data visualization\n",
    "%matplotlib inline"
   ]
  },
  {
   "cell_type": "code",
   "execution_count": 3,
   "metadata": {},
   "outputs": [],
   "source": [
    "import warnings\n",
    "\n",
    "warnings.filterwarnings('ignore')"
   ]
  },
  {
   "cell_type": "code",
   "execution_count": 4,
   "metadata": {},
   "outputs": [],
   "source": [
    "data = 'train_2_pr.csv'\n",
    "\n",
    "df = pd.read_csv(data)"
   ]
  },
  {
   "cell_type": "code",
   "execution_count": 5,
   "metadata": {},
   "outputs": [
    {
     "data": {
      "text/plain": [
       "(5114, 14)"
      ]
     },
     "execution_count": 5,
     "metadata": {},
     "output_type": "execute_result"
    }
   ],
   "source": [
    "df.shape"
   ]
  },
  {
   "cell_type": "code",
   "execution_count": 6,
   "metadata": {},
   "outputs": [
    {
     "data": {
      "text/html": [
       "<div>\n",
       "<style scoped>\n",
       "    .dataframe tbody tr th:only-of-type {\n",
       "        vertical-align: middle;\n",
       "    }\n",
       "\n",
       "    .dataframe tbody tr th {\n",
       "        vertical-align: top;\n",
       "    }\n",
       "\n",
       "    .dataframe thead th {\n",
       "        text-align: right;\n",
       "    }\n",
       "</style>\n",
       "<table border=\"1\" class=\"dataframe\">\n",
       "  <thead>\n",
       "    <tr style=\"text-align: right;\">\n",
       "      <th></th>\n",
       "      <th>Unnamed: 0</th>\n",
       "      <th>shipment_id</th>\n",
       "      <th>send_timestamp</th>\n",
       "      <th>pick_up_point</th>\n",
       "      <th>drop_off_point</th>\n",
       "      <th>source_country</th>\n",
       "      <th>destination_country</th>\n",
       "      <th>freight_cost</th>\n",
       "      <th>gross_weight</th>\n",
       "      <th>shipment_charges</th>\n",
       "      <th>shipment_mode</th>\n",
       "      <th>shipping_company</th>\n",
       "      <th>selected</th>\n",
       "      <th>shipping_time</th>\n",
       "    </tr>\n",
       "  </thead>\n",
       "  <tbody>\n",
       "    <tr>\n",
       "      <th>0</th>\n",
       "      <td>0</td>\n",
       "      <td>S000720</td>\n",
       "      <td>2019-06-08 07:17:51</td>\n",
       "      <td>A</td>\n",
       "      <td>Y</td>\n",
       "      <td>GB</td>\n",
       "      <td>IN</td>\n",
       "      <td>88.61</td>\n",
       "      <td>355.0</td>\n",
       "      <td>0.75</td>\n",
       "      <td>Air</td>\n",
       "      <td>SC3</td>\n",
       "      <td>Y</td>\n",
       "      <td>5.00741</td>\n",
       "    </tr>\n",
       "    <tr>\n",
       "      <th>1</th>\n",
       "      <td>1</td>\n",
       "      <td>S000725</td>\n",
       "      <td>2019-07-12 15:23:21</td>\n",
       "      <td>A</td>\n",
       "      <td>Y</td>\n",
       "      <td>GB</td>\n",
       "      <td>IN</td>\n",
       "      <td>85.65</td>\n",
       "      <td>105.0</td>\n",
       "      <td>0.90</td>\n",
       "      <td>Ocean</td>\n",
       "      <td>SC1</td>\n",
       "      <td>Y</td>\n",
       "      <td>21.41215</td>\n",
       "    </tr>\n",
       "    <tr>\n",
       "      <th>2</th>\n",
       "      <td>2</td>\n",
       "      <td>S000736</td>\n",
       "      <td>2019-10-04 14:23:29</td>\n",
       "      <td>A</td>\n",
       "      <td>Y</td>\n",
       "      <td>GB</td>\n",
       "      <td>IN</td>\n",
       "      <td>86.22</td>\n",
       "      <td>100.0</td>\n",
       "      <td>0.75</td>\n",
       "      <td>Air</td>\n",
       "      <td>SC3</td>\n",
       "      <td>Y</td>\n",
       "      <td>5.33692</td>\n",
       "    </tr>\n",
       "    <tr>\n",
       "      <th>3</th>\n",
       "      <td>3</td>\n",
       "      <td>S000738</td>\n",
       "      <td>2020-01-07 09:19:50</td>\n",
       "      <td>A</td>\n",
       "      <td>Y</td>\n",
       "      <td>GB</td>\n",
       "      <td>IN</td>\n",
       "      <td>94.43</td>\n",
       "      <td>1071.0</td>\n",
       "      <td>1.05</td>\n",
       "      <td>Air</td>\n",
       "      <td>SC2</td>\n",
       "      <td>Y</td>\n",
       "      <td>5.14792</td>\n",
       "    </tr>\n",
       "    <tr>\n",
       "      <th>4</th>\n",
       "      <td>4</td>\n",
       "      <td>S000739</td>\n",
       "      <td>2020-04-11 06:36:03</td>\n",
       "      <td>A</td>\n",
       "      <td>Y</td>\n",
       "      <td>GB</td>\n",
       "      <td>IN</td>\n",
       "      <td>94.24</td>\n",
       "      <td>2007.0</td>\n",
       "      <td>0.75</td>\n",
       "      <td>Air</td>\n",
       "      <td>SC3</td>\n",
       "      <td>Y</td>\n",
       "      <td>5.03067</td>\n",
       "    </tr>\n",
       "  </tbody>\n",
       "</table>\n",
       "</div>"
      ],
      "text/plain": [
       "   Unnamed: 0 shipment_id       send_timestamp pick_up_point drop_off_point  \\\n",
       "0           0     S000720  2019-06-08 07:17:51             A              Y   \n",
       "1           1     S000725  2019-07-12 15:23:21             A              Y   \n",
       "2           2     S000736  2019-10-04 14:23:29             A              Y   \n",
       "3           3     S000738  2020-01-07 09:19:50             A              Y   \n",
       "4           4     S000739  2020-04-11 06:36:03             A              Y   \n",
       "\n",
       "  source_country destination_country  freight_cost  gross_weight  \\\n",
       "0             GB                  IN         88.61         355.0   \n",
       "1             GB                  IN         85.65         105.0   \n",
       "2             GB                  IN         86.22         100.0   \n",
       "3             GB                  IN         94.43        1071.0   \n",
       "4             GB                  IN         94.24        2007.0   \n",
       "\n",
       "   shipment_charges shipment_mode shipping_company selected  shipping_time  \n",
       "0              0.75           Air              SC3        Y        5.00741  \n",
       "1              0.90         Ocean              SC1        Y       21.41215  \n",
       "2              0.75           Air              SC3        Y        5.33692  \n",
       "3              1.05           Air              SC2        Y        5.14792  \n",
       "4              0.75           Air              SC3        Y        5.03067  "
      ]
     },
     "execution_count": 6,
     "metadata": {},
     "output_type": "execute_result"
    }
   ],
   "source": [
    "df.head()"
   ]
  },
  {
   "cell_type": "code",
   "execution_count": null,
   "metadata": {},
   "outputs": [],
   "source": []
  }
 ],
 "metadata": {
  "kernelspec": {
   "display_name": "venv",
   "language": "python",
   "name": "python3"
  },
  "language_info": {
   "codemirror_mode": {
    "name": "ipython",
    "version": 3
   },
   "file_extension": ".py",
   "mimetype": "text/x-python",
   "name": "python",
   "nbconvert_exporter": "python",
   "pygments_lexer": "ipython3",
   "version": "3.11.2"
  }
 },
 "nbformat": 4,
 "nbformat_minor": 2
}
